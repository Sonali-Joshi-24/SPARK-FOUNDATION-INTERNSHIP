{
 "cells": [
  {
   "cell_type": "markdown",
   "metadata": {},
   "source": [
    "# SONALI JOSHI"
   ]
  },
  {
   "cell_type": "markdown",
   "metadata": {},
   "source": [
    "# TASK 4 : Stock Market Prediction using Numerical and Textual Analysis\n",
    "\n",
    "## PROBLEM STATEMENT : Create a hybrid model for stock price/performance prediction using numerical analysis of historical stock prices, and sentimental analysis of news headlines\n"
   ]
  },
  {
   "cell_type": "markdown",
   "metadata": {},
   "source": [
    "## Importing all the Modules"
   ]
  },
  {
   "cell_type": "code",
   "execution_count": 20,
   "metadata": {},
   "outputs": [],
   "source": [
    "import numpy as np\n",
    "import pandas as pd\n",
    "import matplotlib.pyplot as plt\n",
    "import seaborn as sns\n",
    "\n",
    "import datetime\n",
    "import pandas_datareader.data as web\n",
    "from pandas import Series, DataFrame\n",
    "from matplotlib import style\n",
    "# start = datetime.datetime(2010,1,4)\n",
    "# end = datetime.datetime(2020/6/30)"
   ]
  },
  {
   "cell_type": "markdown",
   "metadata": {},
   "source": [
    "## Reading data BSESN.csv"
   ]
  },
  {
   "cell_type": "code",
   "execution_count": 21,
   "metadata": {},
   "outputs": [
    {
     "data": {
      "text/html": [
       "<div>\n",
       "<style scoped>\n",
       "    .dataframe tbody tr th:only-of-type {\n",
       "        vertical-align: middle;\n",
       "    }\n",
       "\n",
       "    .dataframe tbody tr th {\n",
       "        vertical-align: top;\n",
       "    }\n",
       "\n",
       "    .dataframe thead th {\n",
       "        text-align: right;\n",
       "    }\n",
       "</style>\n",
       "<table border=\"1\" class=\"dataframe\">\n",
       "  <thead>\n",
       "    <tr style=\"text-align: right;\">\n",
       "      <th></th>\n",
       "      <th>Date</th>\n",
       "      <th>Open</th>\n",
       "      <th>High</th>\n",
       "      <th>Low</th>\n",
       "      <th>Close</th>\n",
       "      <th>Adj Close</th>\n",
       "      <th>Volume</th>\n",
       "    </tr>\n",
       "  </thead>\n",
       "  <tbody>\n",
       "    <tr>\n",
       "      <th>0</th>\n",
       "      <td>1/2/2001</td>\n",
       "      <td>3953.219971</td>\n",
       "      <td>4028.570068</td>\n",
       "      <td>3929.370117</td>\n",
       "      <td>4018.879883</td>\n",
       "      <td>4018.879883</td>\n",
       "      <td>0.0</td>\n",
       "    </tr>\n",
       "    <tr>\n",
       "      <th>1</th>\n",
       "      <td>1/3/2001</td>\n",
       "      <td>3977.580078</td>\n",
       "      <td>4067.659912</td>\n",
       "      <td>3977.580078</td>\n",
       "      <td>4060.020020</td>\n",
       "      <td>4060.020020</td>\n",
       "      <td>0.0</td>\n",
       "    </tr>\n",
       "    <tr>\n",
       "      <th>2</th>\n",
       "      <td>1/4/2001</td>\n",
       "      <td>4180.970215</td>\n",
       "      <td>4180.970215</td>\n",
       "      <td>4109.549805</td>\n",
       "      <td>4115.370117</td>\n",
       "      <td>4115.370117</td>\n",
       "      <td>0.0</td>\n",
       "    </tr>\n",
       "    <tr>\n",
       "      <th>3</th>\n",
       "      <td>1/5/2001</td>\n",
       "      <td>4116.339844</td>\n",
       "      <td>4195.009766</td>\n",
       "      <td>4115.350098</td>\n",
       "      <td>4183.729980</td>\n",
       "      <td>4183.729980</td>\n",
       "      <td>0.0</td>\n",
       "    </tr>\n",
       "    <tr>\n",
       "      <th>4</th>\n",
       "      <td>1/8/2001</td>\n",
       "      <td>4164.759766</td>\n",
       "      <td>4206.720215</td>\n",
       "      <td>4101.529785</td>\n",
       "      <td>4120.430176</td>\n",
       "      <td>4120.430176</td>\n",
       "      <td>0.0</td>\n",
       "    </tr>\n",
       "  </tbody>\n",
       "</table>\n",
       "</div>"
      ],
      "text/plain": [
       "       Date         Open         High          Low        Close    Adj Close  \\\n",
       "0  1/2/2001  3953.219971  4028.570068  3929.370117  4018.879883  4018.879883   \n",
       "1  1/3/2001  3977.580078  4067.659912  3977.580078  4060.020020  4060.020020   \n",
       "2  1/4/2001  4180.970215  4180.970215  4109.549805  4115.370117  4115.370117   \n",
       "3  1/5/2001  4116.339844  4195.009766  4115.350098  4183.729980  4183.729980   \n",
       "4  1/8/2001  4164.759766  4206.720215  4101.529785  4120.430176  4120.430176   \n",
       "\n",
       "   Volume  \n",
       "0     0.0  \n",
       "1     0.0  \n",
       "2     0.0  \n",
       "3     0.0  \n",
       "4     0.0  "
      ]
     },
     "execution_count": 21,
     "metadata": {},
     "output_type": "execute_result"
    }
   ],
   "source": [
    "df = pd.read_csv(\"BSESN.csv\")\n",
    "df.head()"
   ]
  },
  {
   "cell_type": "markdown",
   "metadata": {},
   "source": [
    "## Cleaning the data"
   ]
  },
  {
   "cell_type": "code",
   "execution_count": 23,
   "metadata": {},
   "outputs": [
    {
     "data": {
      "text/plain": [
       "Date          0\n",
       "Open         74\n",
       "High         74\n",
       "Low          74\n",
       "Close        74\n",
       "Adj Close    74\n",
       "Volume       74\n",
       "dtype: int64"
      ]
     },
     "execution_count": 23,
     "metadata": {},
     "output_type": "execute_result"
    }
   ],
   "source": [
    "df.isnull().sum()"
   ]
  },
  {
   "cell_type": "code",
   "execution_count": 24,
   "metadata": {},
   "outputs": [],
   "source": [
    "df = df.dropna()"
   ]
  },
  {
   "cell_type": "code",
   "execution_count": 25,
   "metadata": {},
   "outputs": [
    {
     "data": {
      "text/plain": [
       "Date         0\n",
       "Open         0\n",
       "High         0\n",
       "Low          0\n",
       "Close        0\n",
       "Adj Close    0\n",
       "Volume       0\n",
       "dtype: int64"
      ]
     },
     "execution_count": 25,
     "metadata": {},
     "output_type": "execute_result"
    }
   ],
   "source": [
    "df.isnull().sum()"
   ]
  },
  {
   "cell_type": "code",
   "execution_count": 26,
   "metadata": {},
   "outputs": [
    {
     "data": {
      "text/plain": [
       "publish_date         0\n",
       "headline_category    0\n",
       "headline_text        0\n",
       "dtype: int64"
      ]
     },
     "execution_count": 26,
     "metadata": {},
     "output_type": "execute_result"
    }
   ],
   "source": [
    "df1.isnull().sum()"
   ]
  },
  {
   "cell_type": "markdown",
   "metadata": {},
   "source": [
    "## Exploring Rolling Mean and Return Rate of Stocks"
   ]
  },
  {
   "cell_type": "code",
   "execution_count": 29,
   "metadata": {},
   "outputs": [
    {
     "data": {
      "text/plain": [
       "0    NaN\n",
       "1    NaN\n",
       "2    NaN\n",
       "3    NaN\n",
       "4    NaN\n",
       "5    NaN\n",
       "6    NaN\n",
       "7    NaN\n",
       "8    NaN\n",
       "9    NaN\n",
       "10   NaN\n",
       "11   NaN\n",
       "12   NaN\n",
       "13   NaN\n",
       "14   NaN\n",
       "15   NaN\n",
       "16   NaN\n",
       "17   NaN\n",
       "19   NaN\n",
       "20   NaN\n",
       "Name: Adj Close, dtype: float64"
      ]
     },
     "execution_count": 29,
     "metadata": {},
     "output_type": "execute_result"
    }
   ],
   "source": [
    "close_px = df['Adj Close']\n",
    "mavg = close_px.rolling(window=100).mean()\n",
    "mavg.head(20)"
   ]
  },
  {
   "cell_type": "markdown",
   "metadata": {},
   "source": [
    "## Plotting the data using ggplot"
   ]
  },
  {
   "cell_type": "code",
   "execution_count": 30,
   "metadata": {},
   "outputs": [
    {
     "data": {
      "image/png": "[encoded data removed]",
      "text/plain": [
       "<Figure size 576x504 with 1 Axes>"
      ]
     },
     "metadata": {},
     "output_type": "display_data"
    }
   ],
   "source": [
    "# Adjusting the size of matplotlib\n",
    "import matplotlib as mpl\n",
    "mpl.rc('figure', figsize=(8, 7))\n",
    "mpl.__version__\n",
    "\n",
    "# Adjusting the style of matplotlib\n",
    "style.use('ggplot')\n",
    "\n",
    "close_px.plot(label='AAPL')\n",
    "mavg.plot(label='mavg')\n",
    "plt.legend()\n",
    "plt.show()"
   ]
  },
  {
   "cell_type": "code",
   "execution_count": 31,
   "metadata": {},
   "outputs": [
    {
     "data": {
      "image/png": "[encoded data removed]",
      "text/plain": [
       "<Figure size 576x504 with 1 Axes>"
      ]
     },
     "metadata": {},
     "output_type": "display_data"
    }
   ],
   "source": [
    "rets = close_px / close_px.shift(1) - 1\n",
    "rets.plot(label='return')\n",
    "plt.show()"
   ]
  },
  {
   "cell_type": "markdown",
   "metadata": {},
   "source": [
    "## Data on Name of Company"
   ]
  },
  {
   "cell_type": "code",
   "execution_count": 33,
   "metadata": {},
   "outputs": [
    {
     "data": {
      "text/html": [
       "<div>\n",
       "<style scoped>\n",
       "    .dataframe tbody tr th:only-of-type {\n",
       "        vertical-align: middle;\n",
       "    }\n",
       "\n",
       "    .dataframe tbody tr th {\n",
       "        vertical-align: top;\n",
       "    }\n",
       "\n",
       "    .dataframe thead th {\n",
       "        text-align: right;\n",
       "    }\n",
       "</style>\n",
       "<table border=\"1\" class=\"dataframe\">\n",
       "  <thead>\n",
       "    <tr style=\"text-align: right;\">\n",
       "      <th>Symbols</th>\n",
       "      <th>AAPL</th>\n",
       "      <th>GE</th>\n",
       "      <th>GOOG</th>\n",
       "      <th>IBM</th>\n",
       "      <th>MSFT</th>\n",
       "    </tr>\n",
       "    <tr>\n",
       "      <th>Date</th>\n",
       "      <th></th>\n",
       "      <th></th>\n",
       "      <th></th>\n",
       "      <th></th>\n",
       "      <th></th>\n",
       "    </tr>\n",
       "  </thead>\n",
       "  <tbody>\n",
       "    <tr>\n",
       "      <th>2015-10-22</th>\n",
       "      <td>26.683798</td>\n",
       "      <td>25.044931</td>\n",
       "      <td>651.789978</td>\n",
       "      <td>115.387383</td>\n",
       "      <td>43.649437</td>\n",
       "    </tr>\n",
       "    <tr>\n",
       "      <th>2015-10-23</th>\n",
       "      <td>27.510878</td>\n",
       "      <td>24.985662</td>\n",
       "      <td>702.000000</td>\n",
       "      <td>115.859840</td>\n",
       "      <td>48.048008</td>\n",
       "    </tr>\n",
       "    <tr>\n",
       "      <th>2015-10-26</th>\n",
       "      <td>26.632969</td>\n",
       "      <td>25.019533</td>\n",
       "      <td>712.780029</td>\n",
       "      <td>115.042992</td>\n",
       "      <td>49.302139</td>\n",
       "    </tr>\n",
       "    <tr>\n",
       "      <th>2015-10-27</th>\n",
       "      <td>26.464319</td>\n",
       "      <td>24.943325</td>\n",
       "      <td>708.489990</td>\n",
       "      <td>110.398384</td>\n",
       "      <td>48.793213</td>\n",
       "    </tr>\n",
       "    <tr>\n",
       "      <th>2015-10-28</th>\n",
       "      <td>27.554773</td>\n",
       "      <td>24.884060</td>\n",
       "      <td>712.950012</td>\n",
       "      <td>112.776749</td>\n",
       "      <td>49.056763</td>\n",
       "    </tr>\n",
       "  </tbody>\n",
       "</table>\n",
       "</div>"
      ],
      "text/plain": [
       "Symbols          AAPL         GE        GOOG         IBM       MSFT\n",
       "Date                                                               \n",
       "2015-10-22  26.683798  25.044931  651.789978  115.387383  43.649437\n",
       "2015-10-23  27.510878  24.985662  702.000000  115.859840  48.048008\n",
       "2015-10-26  26.632969  25.019533  712.780029  115.042992  49.302139\n",
       "2015-10-27  26.464319  24.943325  708.489990  110.398384  48.793213\n",
       "2015-10-28  27.554773  24.884060  712.950012  112.776749  49.056763"
      ]
     },
     "execution_count": 33,
     "metadata": {},
     "output_type": "execute_result"
    }
   ],
   "source": [
    "dfcomp = web.DataReader(['AAPL', 'GE', 'GOOG', 'IBM', 'MSFT'],'yahoo')['Adj Close']\n",
    "dfcomp.head()"
   ]
  },
  {
   "cell_type": "code",
   "execution_count": 34,
   "metadata": {},
   "outputs": [
    {
     "data": {
      "text/html": [
       "<div>\n",
       "<style scoped>\n",
       "    .dataframe tbody tr th:only-of-type {\n",
       "        vertical-align: middle;\n",
       "    }\n",
       "\n",
       "    .dataframe tbody tr th {\n",
       "        vertical-align: top;\n",
       "    }\n",
       "\n",
       "    .dataframe thead th {\n",
       "        text-align: right;\n",
       "    }\n",
       "</style>\n",
       "<table border=\"1\" class=\"dataframe\">\n",
       "  <thead>\n",
       "    <tr style=\"text-align: right;\">\n",
       "      <th>Symbols</th>\n",
       "      <th>AAPL</th>\n",
       "      <th>GE</th>\n",
       "      <th>GOOG</th>\n",
       "      <th>IBM</th>\n",
       "      <th>MSFT</th>\n",
       "    </tr>\n",
       "    <tr>\n",
       "      <th>Date</th>\n",
       "      <th></th>\n",
       "      <th></th>\n",
       "      <th></th>\n",
       "      <th></th>\n",
       "      <th></th>\n",
       "    </tr>\n",
       "  </thead>\n",
       "  <tbody>\n",
       "    <tr>\n",
       "      <th>2015-10-22</th>\n",
       "      <td>NaN</td>\n",
       "      <td>NaN</td>\n",
       "      <td>NaN</td>\n",
       "      <td>NaN</td>\n",
       "      <td>NaN</td>\n",
       "    </tr>\n",
       "    <tr>\n",
       "      <th>2015-10-23</th>\n",
       "      <td>0.030996</td>\n",
       "      <td>-0.002367</td>\n",
       "      <td>0.077034</td>\n",
       "      <td>0.004095</td>\n",
       "      <td>0.100770</td>\n",
       "    </tr>\n",
       "    <tr>\n",
       "      <th>2015-10-26</th>\n",
       "      <td>-0.031911</td>\n",
       "      <td>0.001356</td>\n",
       "      <td>0.015356</td>\n",
       "      <td>-0.007050</td>\n",
       "      <td>0.026102</td>\n",
       "    </tr>\n",
       "    <tr>\n",
       "      <th>2015-10-27</th>\n",
       "      <td>-0.006332</td>\n",
       "      <td>-0.003046</td>\n",
       "      <td>-0.006019</td>\n",
       "      <td>-0.040373</td>\n",
       "      <td>-0.010323</td>\n",
       "    </tr>\n",
       "    <tr>\n",
       "      <th>2015-10-28</th>\n",
       "      <td>0.041205</td>\n",
       "      <td>-0.002376</td>\n",
       "      <td>0.006295</td>\n",
       "      <td>0.021543</td>\n",
       "      <td>0.005401</td>\n",
       "    </tr>\n",
       "    <tr>\n",
       "      <th>2015-10-29</th>\n",
       "      <td>0.010564</td>\n",
       "      <td>-0.001701</td>\n",
       "      <td>0.005568</td>\n",
       "      <td>-0.001988</td>\n",
       "      <td>-0.011486</td>\n",
       "    </tr>\n",
       "    <tr>\n",
       "      <th>2015-10-30</th>\n",
       "      <td>-0.008545</td>\n",
       "      <td>-0.014315</td>\n",
       "      <td>-0.008523</td>\n",
       "      <td>-0.003344</td>\n",
       "      <td>-0.013493</td>\n",
       "    </tr>\n",
       "    <tr>\n",
       "      <th>2015-11-02</th>\n",
       "      <td>0.014059</td>\n",
       "      <td>0.016597</td>\n",
       "      <td>0.014490</td>\n",
       "      <td>0.002070</td>\n",
       "      <td>0.011398</td>\n",
       "    </tr>\n",
       "    <tr>\n",
       "      <th>2015-11-03</th>\n",
       "      <td>0.011470</td>\n",
       "      <td>0.006463</td>\n",
       "      <td>0.001456</td>\n",
       "      <td>0.010757</td>\n",
       "      <td>0.017093</td>\n",
       "    </tr>\n",
       "    <tr>\n",
       "      <th>2015-11-04</th>\n",
       "      <td>-0.004650</td>\n",
       "      <td>-0.001690</td>\n",
       "      <td>0.008239</td>\n",
       "      <td>-0.001762</td>\n",
       "      <td>0.004617</td>\n",
       "    </tr>\n",
       "  </tbody>\n",
       "</table>\n",
       "</div>"
      ],
      "text/plain": [
       "Symbols         AAPL        GE      GOOG       IBM      MSFT\n",
       "Date                                                        \n",
       "2015-10-22       NaN       NaN       NaN       NaN       NaN\n",
       "2015-10-23  0.030996 -0.002367  0.077034  0.004095  0.100770\n",
       "2015-10-26 -0.031911  0.001356  0.015356 -0.007050  0.026102\n",
       "2015-10-27 -0.006332 -0.003046 -0.006019 -0.040373 -0.010323\n",
       "2015-10-28  0.041205 -0.002376  0.006295  0.021543  0.005401\n",
       "2015-10-29  0.010564 -0.001701  0.005568 -0.001988 -0.011486\n",
       "2015-10-30 -0.008545 -0.014315 -0.008523 -0.003344 -0.013493\n",
       "2015-11-02  0.014059  0.016597  0.014490  0.002070  0.011398\n",
       "2015-11-03  0.011470  0.006463  0.001456  0.010757  0.017093\n",
       "2015-11-04 -0.004650 -0.001690  0.008239 -0.001762  0.004617"
      ]
     },
     "execution_count": 34,
     "metadata": {},
     "output_type": "execute_result"
    }
   ],
   "source": [
    "retscomp = dfcomp.pct_change()\n",
    "corr = retscomp.corr()\n",
    "retscomp.head(10)"
   ]
  },
  {
   "cell_type": "markdown",
   "metadata": {},
   "source": [
    "## Showing correlation among data using Heatmap"
   ]
  },
  {
   "cell_type": "code",
   "execution_count": 35,
   "metadata": {},
   "outputs": [
    {
     "data": {
      "image/png": "[encoded data removed]",
      "text/plain": [
       "<Figure size 576x504 with 2 Axes>"
      ]
     },
     "metadata": {},
     "output_type": "display_data"
    }
   ],
   "source": [
    "\n",
    "plt.imshow(corr, cmap='hot', interpolation='none')\n",
    "plt.colorbar()\n",
    "plt.xticks(range(len(corr)), corr.columns)\n",
    "plt.yticks(range(len(corr)), corr.columns);"
   ]
  },
  {
   "cell_type": "markdown",
   "metadata": {},
   "source": [
    "##  Plotting data using scatter plot"
   ]
  },
  {
   "cell_type": "code",
   "execution_count": 36,
   "metadata": {},
   "outputs": [
    {
     "data": {
      "image/png": "[encoded data removed]",
      "text/plain": [
       "<Figure size 576x504 with 1 Axes>"
      ]
     },
     "metadata": {},
     "output_type": "display_data"
    }
   ],
   "source": [
    "plt.scatter(retscomp.mean(), retscomp.std())\n",
    "plt.xlabel('Expected returns')\n",
    "plt.ylabel('Risk')\n",
    "for label, x, y in zip(retscomp.columns, retscomp.mean(), retscomp.std()):\n",
    "    plt.annotate(\n",
    "        label, \n",
    "        xy = (x, y), xytext = (20, -20),\n",
    "        textcoords = 'offset points', ha = 'right', va = 'bottom',\n",
    "        bbox = dict(boxstyle = 'round,pad=0.5', fc = 'yellow', alpha = 0.5),\n",
    "        arrowprops = dict(arrowstyle = '->', connectionstyle = 'arc3,rad=0'))"
   ]
  },
  {
   "cell_type": "markdown",
   "metadata": {},
   "source": [
    "## Reading Data \" India-news-headline\" For performing Sentimental Analysis "
   ]
  },
  {
   "cell_type": "markdown",
   "metadata": {},
   "source": [
    "## Displaying Data"
   ]
  },
  {
   "cell_type": "code",
   "execution_count": 38,
   "metadata": {},
   "outputs": [
    {
     "data": {
      "text/html": [
       "<div>\n",
       "<style scoped>\n",
       "    .dataframe tbody tr th:only-of-type {\n",
       "        vertical-align: middle;\n",
       "    }\n",
       "\n",
       "    .dataframe tbody tr th {\n",
       "        vertical-align: top;\n",
       "    }\n",
       "\n",
       "    .dataframe thead th {\n",
       "        text-align: right;\n",
       "    }\n",
       "</style>\n",
       "<table border=\"1\" class=\"dataframe\">\n",
       "  <thead>\n",
       "    <tr style=\"text-align: right;\">\n",
       "      <th></th>\n",
       "      <th>publish_date</th>\n",
       "      <th>headline_category</th>\n",
       "      <th>headline_text</th>\n",
       "    </tr>\n",
       "  </thead>\n",
       "  <tbody>\n",
       "    <tr>\n",
       "      <th>0</th>\n",
       "      <td>20010101</td>\n",
       "      <td>sports.wwe</td>\n",
       "      <td>win over cena satisfying but defeating underta...</td>\n",
       "    </tr>\n",
       "    <tr>\n",
       "      <th>1</th>\n",
       "      <td>20010102</td>\n",
       "      <td>unknown</td>\n",
       "      <td>Status quo will not be disturbed at Ayodhya; s...</td>\n",
       "    </tr>\n",
       "    <tr>\n",
       "      <th>2</th>\n",
       "      <td>20010102</td>\n",
       "      <td>unknown</td>\n",
       "      <td>Fissures in Hurriyat over Pak visit</td>\n",
       "    </tr>\n",
       "    <tr>\n",
       "      <th>3</th>\n",
       "      <td>20010102</td>\n",
       "      <td>unknown</td>\n",
       "      <td>America's unwanted heading for India?</td>\n",
       "    </tr>\n",
       "    <tr>\n",
       "      <th>4</th>\n",
       "      <td>20010102</td>\n",
       "      <td>unknown</td>\n",
       "      <td>For bigwigs; it is destination Goa</td>\n",
       "    </tr>\n",
       "    <tr>\n",
       "      <th>5</th>\n",
       "      <td>20010102</td>\n",
       "      <td>unknown</td>\n",
       "      <td>Extra buses to clear tourist traffic</td>\n",
       "    </tr>\n",
       "    <tr>\n",
       "      <th>6</th>\n",
       "      <td>20010102</td>\n",
       "      <td>unknown</td>\n",
       "      <td>Dilute the power of transfers; says Riberio</td>\n",
       "    </tr>\n",
       "  </tbody>\n",
       "</table>\n",
       "</div>"
      ],
      "text/plain": [
       "   publish_date headline_category  \\\n",
       "0      20010101        sports.wwe   \n",
       "1      20010102           unknown   \n",
       "2      20010102           unknown   \n",
       "3      20010102           unknown   \n",
       "4      20010102           unknown   \n",
       "5      20010102           unknown   \n",
       "6      20010102           unknown   \n",
       "\n",
       "                                       headline_text  \n",
       "0  win over cena satisfying but defeating underta...  \n",
       "1  Status quo will not be disturbed at Ayodhya; s...  \n",
       "2                Fissures in Hurriyat over Pak visit  \n",
       "3              America's unwanted heading for India?  \n",
       "4                 For bigwigs; it is destination Goa  \n",
       "5               Extra buses to clear tourist traffic  \n",
       "6        Dilute the power of transfers; says Riberio  "
      ]
     },
     "execution_count": 38,
     "metadata": {},
     "output_type": "execute_result"
    }
   ],
   "source": [
    "df1 = pd.read_csv(\"india-news-headlines.csv\")\n",
    "df1.head(7)"
   ]
  },
  {
   "cell_type": "code",
   "execution_count": 39,
   "metadata": {},
   "outputs": [
    {
     "data": {
      "text/html": [
       "<div>\n",
       "<style scoped>\n",
       "    .dataframe tbody tr th:only-of-type {\n",
       "        vertical-align: middle;\n",
       "    }\n",
       "\n",
       "    .dataframe tbody tr th {\n",
       "        vertical-align: top;\n",
       "    }\n",
       "\n",
       "    .dataframe thead th {\n",
       "        text-align: right;\n",
       "    }\n",
       "</style>\n",
       "<table border=\"1\" class=\"dataframe\">\n",
       "  <thead>\n",
       "    <tr style=\"text-align: right;\">\n",
       "      <th></th>\n",
       "      <th>publish_date</th>\n",
       "    </tr>\n",
       "  </thead>\n",
       "  <tbody>\n",
       "    <tr>\n",
       "      <th>count</th>\n",
       "      <td>1.048575e+06</td>\n",
       "    </tr>\n",
       "    <tr>\n",
       "      <th>mean</th>\n",
       "      <td>2.006565e+07</td>\n",
       "    </tr>\n",
       "    <tr>\n",
       "      <th>std</th>\n",
       "      <td>3.057777e+04</td>\n",
       "    </tr>\n",
       "    <tr>\n",
       "      <th>min</th>\n",
       "      <td>2.001010e+07</td>\n",
       "    </tr>\n",
       "    <tr>\n",
       "      <th>25%</th>\n",
       "      <td>2.003121e+07</td>\n",
       "    </tr>\n",
       "    <tr>\n",
       "      <th>50%</th>\n",
       "      <td>2.007122e+07</td>\n",
       "    </tr>\n",
       "    <tr>\n",
       "      <th>75%</th>\n",
       "      <td>2.009080e+07</td>\n",
       "    </tr>\n",
       "    <tr>\n",
       "      <th>max</th>\n",
       "      <td>2.011021e+07</td>\n",
       "    </tr>\n",
       "  </tbody>\n",
       "</table>\n",
       "</div>"
      ],
      "text/plain": [
       "       publish_date\n",
       "count  1.048575e+06\n",
       "mean   2.006565e+07\n",
       "std    3.057777e+04\n",
       "min    2.001010e+07\n",
       "25%    2.003121e+07\n",
       "50%    2.007122e+07\n",
       "75%    2.009080e+07\n",
       "max    2.011021e+07"
      ]
     },
     "execution_count": 39,
     "metadata": {},
     "output_type": "execute_result"
    }
   ],
   "source": [
    "df1.describe()"
   ]
  },
  {
   "cell_type": "markdown",
   "metadata": {},
   "source": [
    "## Finding Max "
   ]
  },
  {
   "cell_type": "code",
   "execution_count": 40,
   "metadata": {},
   "outputs": [
    {
     "data": {
      "text/plain": [
       "publish_date            20110207\n",
       "headline_category    young-turks\n",
       "headline_text          yr demand\n",
       "dtype: object"
      ]
     },
     "execution_count": 40,
     "metadata": {},
     "output_type": "execute_result"
    }
   ],
   "source": [
    "df1.max()"
   ]
  },
  {
   "cell_type": "markdown",
   "metadata": {},
   "source": [
    "## Finding Min"
   ]
  },
  {
   "cell_type": "code",
   "execution_count": 41,
   "metadata": {},
   "outputs": [
    {
     "data": {
      "text/plain": [
       "publish_date                                      20010101\n",
       "headline_category                         2008-in-pictures\n",
       "headline_text         AMC has underutilised allotted funds\n",
       "dtype: object"
      ]
     },
     "execution_count": 41,
     "metadata": {},
     "output_type": "execute_result"
    }
   ],
   "source": [
    "df1.min()"
   ]
  },
  {
   "cell_type": "markdown",
   "metadata": {},
   "source": [
    "## Finding Unique data based on \"Headline- Category \""
   ]
  },
  {
   "cell_type": "code",
   "execution_count": 42,
   "metadata": {},
   "outputs": [
    {
     "data": {
      "text/plain": [
       "array(['sports.wwe', 'unknown', 'entertainment.hindi.bollywood', 'india',\n",
       "       'city.bengaluru', 'city.patna', 'business.india-business',\n",
       "       'entertainment.english.hollywood', 'city.delhi', 'edit-page',\n",
       "       'sports.cricket.india-domestic.ranji-trophy', 'sports.football',\n",
       "       'only-in-america', 'city.ahmedabad', 'jugular-vein', 'swaminomics',\n",
       "       'city.thiruvananthapuram', 'city.pune', 'home.science',\n",
       "       'city.mumbai', 'city.chandigarh', 'city.lucknow', 'city.kolkata',\n",
       "       'city.hyderabad', 'cricket', 'business.international-business',\n",
       "       'city', 'removed', 'home.sunday-times.deep-focus', 'bombay-times',\n",
       "       'home.sunday-times.all-that-matters', 'home.education',\n",
       "       'pune-times', 'calcutta-times', 'hyderabad-times',\n",
       "       'bangalore-times', 'delhi-times', 'lucknow-times',\n",
       "       'ahmedabad-times', 'citizens-grievances', 'anti-terror-law',\n",
       "       'hyderabad.local-sports', 'sports.cricket.sri-lanka-in-india',\n",
       "       'sports.hockey', 'blogs', 'home.sunday-times', 'food-facts',\n",
       "       'recipes', 'business', 'ayodhya-imbroglio', 'afghan-children',\n",
       "       'astrology.horoscope', 'world.us', 'world.middle-east',\n",
       "       'gadgets-news', 'sports.off-the-field', 'world.europe',\n",
       "       'city.chennai', 'world.china', 'world.pakistan',\n",
       "       'life-style.events', 'sino-indian-ties', 'news', 'analysis',\n",
       "       'interviews', 'sports.icc-world-cup-2015', 'tech.tech-news',\n",
       "       'ambani', 'ahmedabad-events', 'tendulkar', 'pms-us-visit',\n",
       "       'life-style.relationships.man-woman', 'sports.tennis',\n",
       "       'sports.badminton', 'world.south-asia',\n",
       "       'business.mf-simplified.mf-news', 'tech.mobiles',\n",
       "       'tech.more-gadgets', 'world.rest-of-world',\n",
       "       'life-style.food.recipes', 'life-style.home-garden',\n",
       "       'nri.community', 'tech.computing', 'city.bareilly',\n",
       "       'life-style.beauty', 'tech.social', 'tech.pcs',\n",
       "       'all-colour-edition', 'columbia-crash', 'war-on-iraq.news',\n",
       "       'war-on-iraq.opinion', 'talk-radio', 'sars-scare.news',\n",
       "       'life-style.health-fitness.health', 'videos',\n",
       "       'indo-pak-monitor.news', 'pm-on-europe-tour.news',\n",
       "       'sports.new-zealand-in-india-2016.interviews', 'advanis-us-visit',\n",
       "       'pm-on-china-visit.news', 'sports.new-zealand-in-india-2016',\n",
       "       'delhi', 'chhattisgarh', 'rajasthan', 'madhya-pradesh',\n",
       "       'pakistan-postcard', 'young-india-votes.talking-point',\n",
       "       'young-india-votes.deep-focus', 'nrs-2003',\n",
       "       'sports.cricket.england-in-australia', 'world',\n",
       "       'sports.cricket.news', 'sports.cricket.india-in-south-africa',\n",
       "       'sports.cricket.ipl', 'world.uk',\n",
       "       'sports.football.indian-super-league', 'sports.more-sports.others',\n",
       "       'young-india-votes.from-the-states',\n",
       "       'young-india-votes.aaj-ka-neta', 'young-india-votes.news',\n",
       "       'iim-fee-row', 'city.aurangabad', 'life-style.fashion.celeb-style',\n",
       "       'sports.cricket.west-indies-in-new-zealand',\n",
       "       'young-india-votes.gallup-poll', 'venus-transit',\n",
       "       'tech.it-services', 'birla-will-saga', 'iraq-hostage-drama',\n",
       "       'mumbai', 'pune', 'bangalore', 'hyderabad', 'tv.news.hindi',\n",
       "       'baroda', 'entertainment', 'sports.football.i-league',\n",
       "       'sports.football.epl', 'life-style.health-fitness.fitness',\n",
       "       'life-style.books.features', 'bachi-karkaria.erratica',\n",
       "       'sa-aiyar.swaminomics', 'gurcharan-das.men-ideas',\n",
       "       'jug-suraiya.jugular-vein', 'formula-one', 'sports.golf',\n",
       "       'top-stories', 'top-headlines', 'chidanand-rajghatta.indiaspora',\n",
       "       'shobhaa-de.politically-incorrect',\n",
       "       'entertainment.hindi.music.news', 'entertainment.events.kolkata',\n",
       "       'friendship-day', 'tech.jobs', 'entertainment.hindi.movie-review',\n",
       "       'new-test-audio', 'entertainment.english.movie-review',\n",
       "       'city.nagpur', 'editorialt', 'comunistst',\n",
       "       'shashi-tharoor.shashi-on-sunday',\n",
       "       'life-style.health-fitness.health-news',\n",
       "       'life-style.food.food-reviews', 'gadgets-special', 'shop',\n",
       "       'life-style.fashion.shows', 'life-style.fashion.trends',\n",
       "       'life-style.fashion.designers', 'chidanand-rajghatta.desiderata',\n",
       "       'tech.how-to', 'sports', 'specials', 'indians-abroad', 'ad-links',\n",
       "       'movie-reviews', 'leisure', 'heads-and-tales', 'also-read',\n",
       "       'special-coverage.other-specials', 'missile-game', 'pune-pluses',\n",
       "       'mumbai-pluses', 'delhi-ncr-pluses', 'twin-city-pluses',\n",
       "       'nagpur-pluses', 'tech', 'goa-plus', 'madras-plus',\n",
       "       'gujarat-pluses', 'north-east-pluses', 'up-pluses',\n",
       "       'maharashtra-pluses', 'speak-out', 'nagpur-times', 'mp-pluses',\n",
       "       'west-bengal-pluses', 'tarun-vijay.the-right-view', 'actresses',\n",
       "       'history', 'entertainment.hindi.music.music-reviews',\n",
       "       'world.mad-mad-world', 'entertainment.tamil.movies.previews',\n",
       "       'entertainment.telugu.movies.previews',\n",
       "       'business.personal-finance', 'entertainment.tamil.movie-reviews',\n",
       "       'others.previews', 'entertainment.kannada.movies.previews',\n",
       "       'other-racing.a1-gp', 'entertainment.bengali.movie-reviews',\n",
       "       'first-look', 'entertainment.kannada.movie-reviews',\n",
       "       'entertainment.events.bangalore', 'entertainment.events.others',\n",
       "       'entertainment.events.delhi', 'entertainment.events',\n",
       "       'entertainment.events.hyderabad', 'entertainment.events.mumbai',\n",
       "       'swapan-dasgupta.right-wrong', 'auto', 'sports.ipl-2015.news',\n",
       "       'sports.nba', 'sports.boxing', 'tech.reviews', 'city.bhopal',\n",
       "       'home.environment.global-warming',\n",
       "       'home.environment.developmental-issues',\n",
       "       'home.environment.flora-fauna', 'home.environment.wild-wacky',\n",
       "       'home.environment.pollution', 'home.environment.the-good-earth',\n",
       "       'city.vadodara', 'tech.gaming', 'jug-suraiya.second-opinion',\n",
       "       'life-style', 'other-racing.others',\n",
       "       'life-style.relationships.parenting',\n",
       "       'life-style.relationships.work', 'entertainment.events.chennai',\n",
       "       'vinita-dawra-nangia', 'city.jaipur', 'election-2008', 'city.goa',\n",
       "       'entertainment.events.goa', 'matches-results', 'photos', 'teams',\n",
       "       'santosh-desai.city-city-bang-bang', 'features', 'text-after-pic',\n",
       "       'stories', 'sports.tennis.interviews', 'subverse',\n",
       "       'sports.more-sports.shooting',\n",
       "       'sports.more-sports.snooker.billiards', 'sports.golf.interviews',\n",
       "       'olympics', 'sports.football.interviews',\n",
       "       'life-style.health-fitness.diet', 'young-turks', 'indias-vision',\n",
       "       'trivia', 'stars-speak', 'sports.more-sports.athletics',\n",
       "       'hot-on-the-web', 'sports.more-sports.wrestling', 'thirupuram',\n",
       "       'past-winners', 'player-profile', 'players-to-watch',\n",
       "       'players-profiles', 'jaipur', 'kolkata', 'nagpur', 'ahmedabad',\n",
       "       'chandigarh', 'goa', 'arsenal', 'everton', 'liverpool',\n",
       "       'bolton-wanderers', 'manchester-united', 'manchester-city',\n",
       "       'stoke-city', 'newcastle-united', 'chelsea', 'fulham',\n",
       "       'aston-villa', 'blackburn-rovers', 'sports.headline2',\n",
       "       'sports.headline3', 'sports.headline4', 'sports.headline5',\n",
       "       'sunderland', 'tottenham-hotspur', 'west-bromwich-albion',\n",
       "       'sports.football.epl.past-winners', 'mj-akbar.the-siege-within',\n",
       "       'wigan-athletic', 'advisory', 'sports.headline1',\n",
       "       'other-racing.moto-gp', 'sports.more-sports.cycling',\n",
       "       'bobilli-vijay-kumar', 'circuits.formula-one', 'more-stories',\n",
       "       'news.hardware', 'regional.tamil',\n",
       "       'entertainment.telugu.movie-reviews', 'city.thane',\n",
       "       '2008-in-pictures', 'top-news-of-2008', 'top-videos',\n",
       "       '2011-top-stories',\n",
       "       'sports.tennis.international-premier-tennis-league',\n",
       "       'city.hubballi', 'city.mangaluru', 'city.mysuru', 'city.rajkot',\n",
       "       'city.surat', 'city.kanpur', 'city.varanasi', 'city.allahabad',\n",
       "       'city.ludhiana', 'indian-challenges', 'regional',\n",
       "       'life-style.specials', 'city.guwahati',\n",
       "       'entertainment.tamil.movies.news', 'others.news-interviews',\n",
       "       'regional.kannada', 'entertainment.kannada.movies.news',\n",
       "       'young-guns', 'city.bhubaneswar',\n",
       "       'entertainment.bengali.movies.news', 'city.ranchi',\n",
       "       'quote-of-the-day', 'complete-results-2009', 'star-candidates',\n",
       "       'did-you-know', 'campaign-trail', 'reporters-diary',\n",
       "       'party-manifestos', 'drivers', 'entertainment.telugu.movies.news',\n",
       "       'rupee-symbol-survey', 'people', 'venues', 'spirituality',\n",
       "       'off-the-field', 'sports.headline6', 'schedule',\n",
       "       'life-style.people', 'schedule-results', 'travel', 'speaking-tree',\n",
       "       'life-style.fashion.specials', 'silver-jubilee',\n",
       "       'life-style.debate', 'indian-challenge',\n",
       "       'life-style.health-fitness', 'entertainment.movies',\n",
       "       'scorecard-and-statistics', 'life-style.food.drinks-corner',\n",
       "       'life-style.food.specials', 'entertainment.marathi.movie-reviews',\n",
       "       'news-features', 'teams-profile', 'punjab', 'sports.chess',\n",
       "       'sports.racing', 'life-style.spotlight',\n",
       "       'life-style.relationships.specials',\n",
       "       'life-style.health-fitness.specials', 'world-cup-venues',\n",
       "       'other-top-stories', '2010-stars', 'teams-players',\n",
       "       'queens-baton-relay', 'home.environment', 'cwg-history',\n",
       "       'sports.football.epl.interviews', 'entertainment.hindi.top-10',\n",
       "       'india-hopes', 'cwg-stars', 'india-news', 'apply-for',\n",
       "       'lodge-a-complaint', 'certificates', 'miscellaneous',\n",
       "       'city.gurgaon', 'entertainment.hindi.music.music-events',\n",
       "       'india-challenges', 'entertainment.beauty-pageants.news',\n",
       "       'entertainment.bengali.movies.previews', 'down-memory-lane',\n",
       "       'entertainment.hindi.music.singer-of-the-week',\n",
       "       'profiles.india-profiles'], dtype=object)"
      ]
     },
     "execution_count": 42,
     "metadata": {},
     "output_type": "execute_result"
    }
   ],
   "source": [
    "df1['headline_category'].unique()"
   ]
  },
  {
   "cell_type": "markdown",
   "metadata": {},
   "source": [
    "## finding correlation"
   ]
  },
  {
   "cell_type": "code",
   "execution_count": 43,
   "metadata": {},
   "outputs": [
    {
     "data": {
      "text/html": [
       "<div>\n",
       "<style scoped>\n",
       "    .dataframe tbody tr th:only-of-type {\n",
       "        vertical-align: middle;\n",
       "    }\n",
       "\n",
       "    .dataframe tbody tr th {\n",
       "        vertical-align: top;\n",
       "    }\n",
       "\n",
       "    .dataframe thead th {\n",
       "        text-align: right;\n",
       "    }\n",
       "</style>\n",
       "<table border=\"1\" class=\"dataframe\">\n",
       "  <thead>\n",
       "    <tr style=\"text-align: right;\">\n",
       "      <th></th>\n",
       "      <th>publish_date</th>\n",
       "    </tr>\n",
       "  </thead>\n",
       "  <tbody>\n",
       "    <tr>\n",
       "      <th>publish_date</th>\n",
       "      <td>1.0</td>\n",
       "    </tr>\n",
       "  </tbody>\n",
       "</table>\n",
       "</div>"
      ],
      "text/plain": [
       "              publish_date\n",
       "publish_date           1.0"
      ]
     },
     "execution_count": 43,
     "metadata": {},
     "output_type": "execute_result"
    }
   ],
   "source": [
    "\n",
    "df1.corr()"
   ]
  },
  {
   "cell_type": "markdown",
   "metadata": {},
   "source": [
    "## Plotting data using Pairplot"
   ]
  },
  {
   "cell_type": "code",
   "execution_count": 47,
   "metadata": {},
   "outputs": [
    {
     "data": {
      "image/png": "[encoded data removed]",
      "text/plain": [
       "<Figure size 180x180 with 2 Axes>"
      ]
     },
     "metadata": {},
     "output_type": "display_data"
    }
   ],
   "source": [
    "sns.set_palette('tab10')\n",
    "sns.pairplot(df1)\n",
    "plt.show()"
   ]
  },
  {
   "cell_type": "code",
   "execution_count": 48,
   "metadata": {},
   "outputs": [
    {
     "data": {
      "text/plain": [
       "Sacred Space                                             47\n",
       "City round up                                            45\n",
       "It's a new kind of 'rat'h race                           43\n",
       "Youngest user of fairness creams                         40\n",
       "In Pics: The week gone by                                40\n",
       "                                                         ..\n",
       "CAG report cites system failure as reason for PF scam     1\n",
       "Inquiry indicts Ajmer dargah committee of corruption      1\n",
       "UP IAS assn condoles Harminder's death                    1\n",
       "HC order fails to save Smriti Upvan                       1\n",
       "Baked to perfection! with Preah Narang                    1\n",
       "Name: headline_text, Length: 975459, dtype: int64"
      ]
     },
     "execution_count": 48,
     "metadata": {},
     "output_type": "execute_result"
    }
   ],
   "source": [
    "df1['headline_text'].value_counts()"
   ]
  },
  {
   "cell_type": "code",
   "execution_count": 49,
   "metadata": {},
   "outputs": [
    {
     "data": {
      "text/plain": [
       "india                                                143710\n",
       "unknown                                              134195\n",
       "business.india-business                               50144\n",
       "city.delhi                                            46247\n",
       "city.mumbai                                           42581\n",
       "                                                      ...  \n",
       "life-style.health-fitness                                 1\n",
       "people                                                    1\n",
       "sports.cricket.west-indies-in-new-zealand                 1\n",
       "life-style.books.features                                 1\n",
       "sports.tennis.international-premier-tennis-league         1\n",
       "Name: headline_category, Length: 397, dtype: int64"
      ]
     },
     "execution_count": 49,
     "metadata": {},
     "output_type": "execute_result"
    }
   ],
   "source": [
    "df1['headline_category'].value_counts()"
   ]
  },
  {
   "cell_type": "code",
   "execution_count": 56,
   "metadata": {},
   "outputs": [
    {
     "data": {
      "image/png": "[encoded data removed]",
      "text/plain": [
       "<Figure size 576x504 with 1 Axes>"
      ]
     },
     "metadata": {},
     "output_type": "display_data"
    }
   ],
   "source": [
    "df1['headline_text'].str.len().hist()\n",
    "plt.show()\n"
   ]
  },
  {
   "cell_type": "code",
   "execution_count": 57,
   "metadata": {},
   "outputs": [
    {
     "data": {
      "image/png": "[encoded data removed]",
      "text/plain": [
       "<Figure size 576x504 with 1 Axes>"
      ]
     },
     "metadata": {},
     "output_type": "display_data"
    }
   ],
   "source": [
    "df1['headline_text'].str.split().\\\n",
    "   apply(lambda x : [len(i) for i in x]). \\\n",
    "   map(lambda x: np.mean(x)).hist()\n",
    "plt.show()"
   ]
  },
  {
   "cell_type": "markdown",
   "metadata": {},
   "source": [
    "## Import nltk"
   ]
  },
  {
   "cell_type": "code",
   "execution_count": 59,
   "metadata": {},
   "outputs": [
    {
     "name": "stderr",
     "output_type": "stream",
     "text": [
      "[nltk_data] Downloading package stopwords to\n",
      "[nltk_data]     C:\\Users\\omkar\\AppData\\Roaming\\nltk_data...\n",
      "[nltk_data]   Unzipping corpora\\stopwords.zip.\n"
     ]
    }
   ],
   "source": [
    "import nltk\n",
    "from nltk.corpus import stopwords\n",
    "nltk.download('stopwords')\n",
    "stop=set(stopwords.words('english'))"
   ]
  },
  {
   "cell_type": "code",
   "execution_count": 60,
   "metadata": {},
   "outputs": [],
   "source": [
    "corpus=[]\n",
    "new= df1['headline_text'].str.split()\n",
    "new=new.values.tolist()\n",
    "corpus=[word for i in new for word in i]\n",
    "\n",
    "from collections import defaultdict\n",
    "dic=defaultdict(int)\n",
    "for word in corpus:\n",
    "    if word in stop:\n",
    "        dic[word]+=1"
   ]
  },
  {
   "cell_type": "code",
   "execution_count": 61,
   "metadata": {},
   "outputs": [
    {
     "data": {
      "image/png": "[encoded data removed]",
      "text/plain": [
       "<Figure size 576x504 with 1 Axes>"
      ]
     },
     "metadata": {},
     "output_type": "display_data"
    }
   ],
   "source": [
    "from collections import Counter\n",
    "counter=Counter(corpus)\n",
    "most=counter.most_common()\n",
    "x, y= [], []\n",
    "for word,count in most[:40]:\n",
    "    if (word not in stop):\n",
    "        x.append(word)\n",
    "        y.append(count)\n",
    "        \n",
    "sns.barplot(x=y,y=x)\n",
    "plt.show()"
   ]
  },
  {
   "cell_type": "code",
   "execution_count": 62,
   "metadata": {},
   "outputs": [
    {
     "data": {
      "text/plain": [
       "[('I', 'went'),\n",
       " ('went', 'to'),\n",
       " ('to', 'the'),\n",
       " ('the', 'river'),\n",
       " ('river', 'bank')]"
      ]
     },
     "execution_count": 62,
     "metadata": {},
     "output_type": "execute_result"
    }
   ],
   "source": [
    "from nltk.util import ngrams\n",
    "list(ngrams(['I' ,'went','to','the','river','bank'],2))"
   ]
  },
  {
   "cell_type": "code",
   "execution_count": 63,
   "metadata": {},
   "outputs": [
    {
     "data": {
      "image/png": "[encoded data removed]",
      "text/plain": [
       "<Figure size 576x504 with 1 Axes>"
      ]
     },
     "metadata": {},
     "output_type": "display_data"
    }
   ],
   "source": [
    "\n",
    "from sklearn.feature_extraction.text import CountVectorizer\n",
    "def get_top_ngram(corpus, n=None):\n",
    "    vec = CountVectorizer(ngram_range=(n, n)).fit(corpus)\n",
    "    bag_of_words = vec.transform(corpus)\n",
    "    sum_words = bag_of_words.sum(axis=0) \n",
    "    words_freq = [(word, sum_words[0, idx]) \n",
    "                  for word, idx in vec.vocabulary_.items()]\n",
    "    words_freq =sorted(words_freq, key = lambda x: x[1], reverse=True)\n",
    "    return words_freq[:10]\n",
    "top_n_bigrams=get_top_ngram(df1['headline_text'],2)[:10]\n",
    "x,y=map(list,zip(*top_n_bigrams))\n",
    "sns.barplot(x=y,y=x)\n",
    "plt.show()"
   ]
  },
  {
   "cell_type": "markdown",
   "metadata": {},
   "source": [
    "## Performing Sentimental Analysis "
   ]
  },
  {
   "cell_type": "code",
   "execution_count": 65,
   "metadata": {},
   "outputs": [
    {
     "data": {
      "text/plain": [
       "Sentiment(polarity=0.0, subjectivity=0.0)"
      ]
     },
     "execution_count": 65,
     "metadata": {},
     "output_type": "execute_result"
    }
   ],
   "source": [
    "from textblob import TextBlob\n",
    "TextBlob('IT will become compulsory in school').sentiment"
   ]
  },
  {
   "cell_type": "code",
   "execution_count": 66,
   "metadata": {},
   "outputs": [
    {
     "data": {
      "image/png": "[encoded data removed]",
      "text/plain": [
       "<Figure size 576x504 with 1 Axes>"
      ]
     },
     "metadata": {},
     "output_type": "display_data"
    }
   ],
   "source": [
    "def polarity(text):\n",
    "    return TextBlob(text).sentiment.polarity\n",
    "df1['polarity_score']=df1['headline_text'].\\\n",
    "   apply(lambda x : polarity(x))\n",
    "df1['polarity_score'].hist()\n",
    "plt.show()"
   ]
  },
  {
   "cell_type": "code",
   "execution_count": 68,
   "metadata": {},
   "outputs": [
    {
     "data": {
      "image/png": "[encoded data removed]",
      "text/plain": [
       "<Figure size 576x504 with 1 Axes>"
      ]
     },
     "metadata": {},
     "output_type": "display_data"
    }
   ],
   "source": [
    "def sentiment(x):\n",
    "    if x<0:\n",
    "        return 'neg'\n",
    "    elif x==0:\n",
    "        return 'neu'\n",
    "    else:\n",
    "        return 'pos'\n",
    "    \n",
    "df1['polarity']=df1['polarity_score'].\\\n",
    "   map(lambda x: sentiment(x))\n",
    "plt.bar(df1.polarity.value_counts().index,\n",
    "        df1.polarity.value_counts())\n",
    "plt.show()"
   ]
  },
  {
   "cell_type": "code",
   "execution_count": 69,
   "metadata": {},
   "outputs": [
    {
     "data": {
      "text/plain": [
       "0     win over cena satisfying but defeating underta...\n",
       "5                  Extra buses to clear tourist traffic\n",
       "13          Will Qureshi's return really help the govt?\n",
       "31                 Extra buses to clear tourist traffic\n",
       "39          Will Qureshi's return really help the govt?\n",
       "Name: headline_text, dtype: object"
      ]
     },
     "execution_count": 69,
     "metadata": {},
     "output_type": "execute_result"
    }
   ],
   "source": [
    "df1[df1['polarity']=='pos']['headline_text'].head()\n"
   ]
  },
  {
   "cell_type": "code",
   "execution_count": 71,
   "metadata": {},
   "outputs": [
    {
     "data": {
      "text/plain": [
       "66         Destroying myths and doubts on sexuality\n",
       "87         Powerless north India gropes in the dark\n",
       "105                        10-year-old girl missing\n",
       "132              Net lottery: A winner or a sucker?\n",
       "143    Mental illness can pass from parent to child\n",
       "Name: headline_text, dtype: object"
      ]
     },
     "execution_count": 71,
     "metadata": {},
     "output_type": "execute_result"
    }
   ],
   "source": [
    "df1[df1['polarity']=='neg']['headline_text'].head()\n"
   ]
  },
  {
   "cell_type": "code",
   "execution_count": null,
   "metadata": {},
   "outputs": [],
   "source": []
  }
 ],
 "metadata": {
  "kernelspec": {
   "display_name": "Python 3",
   "language": "python",
   "name": "python3"
  },
  "language_info": {
   "codemirror_mode": {
    "name": "ipython",
    "version": 3
   },
   "file_extension": ".py",
   "mimetype": "text/x-python",
   "name": "python",
   "nbconvert_exporter": "python",
   "pygments_lexer": "ipython3",
   "version": "3.8.4"
  }
 },
 "nbformat": 4,
 "nbformat_minor": 4
}
